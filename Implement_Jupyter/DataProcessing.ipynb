{
 "cells": [
  {
   "cell_type": "code",
   "execution_count": null,
   "metadata": {},
   "outputs": [],
   "source": [
    "import os\n",
    "\n",
    "import rasterio\n",
    "from rasterio.plot import reshape_as_image\n",
    "import rasterio.mask\n",
    "from rasterio.features import rasterize\n",
    "\n",
    "import pandas as pd\n",
    "import geopandas as gpd\n",
    "from shapely.geometry import mapping, Point, Polygon\n",
    "from shapely.ops import cascaded_union\n",
    "\n",
    "import numpy as np\n",
    "import cv2\n",
    "import matplotlib.pyplot as plt"
   ]
  },
  {
   "cell_type": "markdown",
   "metadata": {},
   "source": [
    "### Split Image by pixel size"
   ]
  },
  {
   "cell_type": "code",
   "execution_count": null,
   "metadata": {},
   "outputs": [],
   "source": [
    "import os\n",
    "from osgeo import gdal\n",
    "\n",
    "# Put image directory and name for split\n",
    "in_path = 'C:/Users/scsi/Desktop/SIGspatial/0.image_process/1.image/0619/'\n",
    "input_filename = '0619_3.tif' \n",
    "\n",
    "# Save file \n",
    "out_path = 'D:/split/0619'\n",
    "output_filename = '0619_3_'\n",
    "\n",
    "# Size of image splited\n",
    "tile_size_x = 256 \n",
    "tile_size_y = 256\n",
    "overlap = 128\n",
    "\n",
    "ds = gdal.Open(os.path.join(in_path, input_filename))\n",
    "band = ds.GetRasterBand(1)\n",
    "xsize = band.XSize\n",
    "ysize = band.YSize\n",
    "\n",
    "for i in range(0, xsize, tile_size_x - overlap):\n",
    "    for j in range(0, ysize, tile_size_y - overlap):\n",
    "        width = min(tile_size_x, xsize - i)  # Adjust for remaining space in x direction\n",
    "        height = min(tile_size_y, ysize - j)  # Adjust for remaining space in y direction\n",
    "        com_string = (\n",
    "            f\"gdal_translate -of GTIFF -srcwin {i}, {j}, {width}, {height} \"\n",
    "            f\"{os.path.join(in_path, input_filename)} \"\n",
    "            f\"{os.path.join(out_path, output_filename)}{i}_{j}.tif\"\n",
    "        )\n",
    "        os.system(com_string)"
   ]
  },
  {
   "cell_type": "markdown",
   "metadata": {},
   "source": [
    "### Only 256*256"
   ]
  },
  {
   "cell_type": "code",
   "execution_count": null,
   "metadata": {},
   "outputs": [],
   "source": [
    "from PIL import Image\n",
    "import os\n",
    "\n",
    "def is_image_256x256(file_path):\n",
    "    try:\n",
    "        with Image.open(file_path) as img:\n",
    "            return img.size == (256, 256)\n",
    "    except:\n",
    "        return False\n",
    "\n",
    "def delete_non_256x256_tiff_files(folder_path):\n",
    "    for filename in os.listdir(folder_path):\n",
    "        if filename.lower().endswith(\".tiff\") or filename.lower().endswith(\".tif\"):\n",
    "            file_path = os.path.join(folder_path, filename)\n",
    "            if not is_image_256x256(file_path):\n",
    "                os.remove(file_path)\n",
    "                print(f\"Deleted: {filename}\")\n",
    "\n",
    "folder_path = r\"D:\\split\\0619\"\n",
    "delete_non_256x256_tiff_files(folder_path)"
   ]
  },
  {
   "cell_type": "markdown",
   "metadata": {},
   "source": [
    "### Make Mask(mask = 0)"
   ]
  },
  {
   "cell_type": "code",
   "execution_count": null,
   "metadata": {},
   "outputs": [],
   "source": [
    "def poly_from_utm(polygon, transform):\n",
    "    poly_pts = []\n",
    "    \n",
    "    poly = cascaded_union(polygon)\n",
    "    for i in np.array(poly.exterior.coords):\n",
    "        # Convert polygons to the image CRS\n",
    "        poly_pts.append(~transform * tuple(i))\n",
    "        \n",
    "    # Generate a polygon object\n",
    "    new_poly = Polygon(poly_pts)\n",
    "    return new_poly\n",
    "\n",
    "\n",
    "raster_folder = r\"D:\\split\\0619\"\n",
    "output_folder = r\"D:\\split\\0619_mask\"\n",
    "for raster_filename in os.listdir(raster_folder):\n",
    "    if raster_filename.endswith('.tif'):\n",
    "        raster_path = os.path.join(raster_folder, raster_filename)\n",
    "        \n",
    "        with rasterio.open(raster_path, \"r\") as src:\n",
    "            raster_img = src.read()\n",
    "            raster_meta = src.meta\n",
    "\n",
    "        shape_path = r\"D:\\split\\06119_mask.shp\"  # Mask shapefile\n",
    "        train_df = gpd.read_file(shape_path)\n",
    "\n",
    "        poly_shp = []\n",
    "        im_size = (src.meta['height'], src.meta['width'])\n",
    "        for num, row in train_df.iterrows():\n",
    "            if row['geometry'].geom_type == 'Polygon':\n",
    "                poly = poly_from_utm(row['geometry'], src.meta['transform'])\n",
    "                poly_shp.append(poly)\n",
    "            else:\n",
    "                for p in row['geometry']:\n",
    "                    poly = poly_from_utm(p, src.meta['transform'])\n",
    "                    poly_shp.append(poly)\n",
    "\n",
    "        mask = rasterize(shapes=poly_shp, out_shape=im_size)\n",
    "\n",
    "        mask = mask.astype(\"uint16\")\n",
    "        \n",
    "        inverted_mask = 1 - mask   ## make mask = 0\n",
    "        \n",
    "        save_filename = f\"{os.path.splitext(raster_filename)[0]}.tif\"\n",
    "        save_path = os.path.join(output_folder, save_filename)\n",
    "        \n",
    "        bin_mask_meta = src.meta.copy()\n",
    "        bin_mask_meta.update({'count': 1})\n",
    "        with rasterio.open(save_path, 'w', **bin_mask_meta) as dst:\n",
    "            dst.write(inverted_mask * 255, 1) \n",
    "print(\"Processing complete.\")"
   ]
  }
 ],
 "metadata": {
  "kernelspec": {
   "display_name": "base",
   "language": "python",
   "name": "python3"
  },
  "language_info": {
   "codemirror_mode": {
    "name": "ipython",
    "version": 3
   },
   "file_extension": ".py",
   "mimetype": "text/x-python",
   "name": "python",
   "nbconvert_exporter": "python",
   "pygments_lexer": "ipython3",
   "version": "3.9.16"
  },
  "orig_nbformat": 4
 },
 "nbformat": 4,
 "nbformat_minor": 2
}
