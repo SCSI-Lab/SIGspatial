{
 "cells": [
  {
   "cell_type": "markdown",
   "metadata": {},
   "source": [
    "## Data Processing"
   ]
  },
  {
   "cell_type": "markdown",
   "metadata": {},
   "source": [
    "This part is first step for our Model, It's really easy to implemented it but  you should be careful about your path!"
   ]
  },
  {
   "cell_type": "markdown",
   "metadata": {},
   "source": [
    "import module!"
   ]
  },
  {
   "cell_type": "code",
   "execution_count": null,
   "metadata": {},
   "outputs": [],
   "source": [
    "import geopandas as gpd\n",
    "import numpy as np\n",
    "import os\n",
    "import rasterio\n",
    "import rasterio.mask\n",
    "\n",
    "from osgeo import gdal\n",
    "from PIL import Image\n",
    "from rasterio.features import rasterize\n",
    "from shapely.geometry import Polygon\n",
    "from shapely.ops import cascaded_union"
   ]
  },
  {
   "cell_type": "markdown",
   "metadata": {},
   "source": [
    "### Split Image by pixel size"
   ]
  },
  {
   "cell_type": "markdown",
   "metadata": {},
   "source": [
    "This part split our original image into (256,256) size.  \n",
    "As I mentioned above, you shold careful about your path!  \n",
    "\n",
    "1. In_path, This path is a original image path which can download in GoogldDrive. We've organized our images, so just download the entirefolder.\n",
    "2. Input_filename, This parma set your split image region and date. \n",
    "3. out_path, Save path for After you split original image\n",
    "4. output_filename, This param have to match with 'Input_filename\", Don't change the form please"
   ]
  },
  {
   "cell_type": "code",
   "execution_count": null,
   "metadata": {},
   "outputs": [],
   "source": [
    "# Put image directory and name for split\n",
    "in_path = 'G:/0619/'\n",
    "input_filename = '0619_3.tif'\n",
    "\n",
    "# Save path, after you split the image\n",
    "# Example for output_filename, As you see . It have to match the input_filename \n",
    "out_path = '.../data/0619/'\n",
    "output_filename = '0619_3_'"
   ]
  },
  {
   "cell_type": "markdown",
   "metadata": {},
   "source": [
    "After setting the path, just run the cell below.  \n",
    "But, one .tif file split has done, you should reallocate the path.  \n",
    "For example, you split the image named '0603_1.tif' , edit the above param and re-run  "
   ]
  },
  {
   "cell_type": "code",
   "execution_count": null,
   "metadata": {},
   "outputs": [],
   "source": [
    "# Size of image splited\n",
    "tile_size_x = 256 \n",
    "tile_size_y = 256\n",
    "overlap = 128\n",
    "\n",
    "ds = gdal.Open(os.path.join(in_path, input_filename))\n",
    "band = ds.GetRasterBand(1)\n",
    "xsize = band.XSize\n",
    "ysize = band.YSize\n",
    "\n",
    "for i in range(0, xsize, tile_size_x - overlap):\n",
    "    for j in range(0, ysize, tile_size_y - overlap):\n",
    "        width = min(tile_size_x, xsize - i)  # Adjust for remaining space in x direction\n",
    "        height = min(tile_size_y, ysize - j)  # Adjust for remaining space in y direction\n",
    "        com_string = (\n",
    "            f\"gdal_translate -of GTIFF -srcwin {i}, {j}, {width}, {height} \"\n",
    "            f\"{os.path.join(in_path, input_filename)} \"\n",
    "            f\"{os.path.join(out_path, output_filename)}{i}_{j}.tif\"\n",
    "        )\n",
    "        os.system(com_string)"
   ]
  },
  {
   "cell_type": "markdown",
   "metadata": {},
   "source": [
    "Next step is eliminating images which don't match with specified size(256,256)  \n",
    "This problem occured when you cutting the edges."
   ]
  },
  {
   "cell_type": "markdown",
   "metadata": {},
   "source": [
    "### Only 256*256"
   ]
  },
  {
   "cell_type": "markdown",
   "metadata": {},
   "source": [
    "After you finished the split, all your image saved in \"/split/Date(etc. 0603)\"  \n",
    "so, param 'folder_path' is a path when you saved your split image."
   ]
  },
  {
   "cell_type": "code",
   "execution_count": null,
   "metadata": {},
   "outputs": [],
   "source": [
    "def is_image_256x256(file_path):\n",
    "    try:\n",
    "        with Image.open(file_path) as img:\n",
    "            return img.size == (256, 256)\n",
    "    except:\n",
    "        return False\n",
    "\n",
    "def delete_non_256x256_tiff_files(folder_path):\n",
    "    for filename in os.listdir(folder_path):\n",
    "        if filename.lower().endswith(\".tiff\") or filename.lower().endswith(\".tif\"):\n",
    "            file_path = os.path.join(folder_path, filename)\n",
    "            if not is_image_256x256(file_path):\n",
    "                os.remove(file_path)\n",
    "                print(f\"Deleted: {filename}\")\n",
    "\n",
    "#Example for folder_path\n",
    "folder_path = \".../data/0619\"\n",
    "delete_non_256x256_tiff_files(folder_path)"
   ]
  },
  {
   "cell_type": "markdown",
   "metadata": {},
   "source": [
    "### Make Mask(mask = 0)"
   ]
  },
  {
   "cell_type": "markdown",
   "metadata": {},
   "source": [
    "This process is also same as abobe. Just careful about your path!"
   ]
  },
  {
   "cell_type": "code",
   "execution_count": null,
   "metadata": {},
   "outputs": [],
   "source": [
    "def poly_from_utm(polygon, transform):\n",
    "    poly_pts = []\n",
    "    \n",
    "    poly = cascaded_union(polygon)\n",
    "    for i in np.array(poly.exterior.coords):\n",
    "        # Convert polygons to the image CRS\n",
    "        poly_pts.append(~transform * tuple(i))\n",
    "        \n",
    "    # Generate a polygon object\n",
    "    new_poly = Polygon(poly_pts)\n",
    "    return new_poly\n",
    "\n",
    "# raster_folder mean, split image folder path\n",
    "# This is an example for the path, Please should maintatin that form!\n",
    "raster_folder = \".../data/0619\"\n",
    "\n",
    "#output_folder is the folder that saved your mask image.\n",
    "output_folder = \".../data/0619_mask\"\n",
    "\n",
    "for raster_filename in os.listdir(raster_folder):\n",
    "    if raster_filename.endswith('.tif'):\n",
    "        raster_path = os.path.join(raster_folder, raster_filename)\n",
    "        \n",
    "        with rasterio.open(raster_path, \"r\") as src:\n",
    "            raster_img = src.read()\n",
    "            raster_meta = src.meta\n",
    "\n",
    "        #You can get this shapefile in our GoogleDrive\n",
    "        #We organize the name like this\n",
    "        shape_path = \".../0619_lake.shp\"  # Mask shapefile\n",
    "        train_df = gpd.read_file(shape_path)\n",
    "\n",
    "        poly_shp = []\n",
    "        im_size = (src.meta['height'], src.meta['width'])\n",
    "        for num, row in train_df.iterrows():\n",
    "            if row['geometry'].geom_type == 'Polygon':\n",
    "                poly = poly_from_utm(row['geometry'], src.meta['transform'])\n",
    "                poly_shp.append(poly)\n",
    "            else:\n",
    "                for p in row['geometry']:\n",
    "                    poly = poly_from_utm(p, src.meta['transform'])\n",
    "                    poly_shp.append(poly)\n",
    "\n",
    "        mask = rasterize(shapes=poly_shp, out_shape=im_size)\n",
    "\n",
    "        mask = mask.astype(\"uint16\")\n",
    "        \n",
    "        inverted_mask = 1 - mask   ## make mask = 0\n",
    "        \n",
    "        save_filename = f\"{os.path.splitext(raster_filename)[0]}.tif\"\n",
    "        save_path = os.path.join(output_folder, save_filename)\n",
    "        \n",
    "        bin_mask_meta = src.meta.copy()\n",
    "        bin_mask_meta.update({'count': 1})\n",
    "        with rasterio.open(save_path, 'w', **bin_mask_meta) as dst:\n",
    "            dst.write(inverted_mask * 255, 1) \n",
    "\n",
    "print(\"Processing complete.\")"
   ]
  }
 ],
 "metadata": {
  "kernelspec": {
   "display_name": "base",
   "language": "python",
   "name": "python3"
  },
  "language_info": {
   "codemirror_mode": {
    "name": "ipython",
    "version": 3
   },
   "file_extension": ".py",
   "mimetype": "text/x-python",
   "name": "python",
   "nbconvert_exporter": "python",
   "pygments_lexer": "ipython3",
   "version": "3.10.12"
  },
  "orig_nbformat": 4
 },
 "nbformat": 4,
 "nbformat_minor": 2
}
